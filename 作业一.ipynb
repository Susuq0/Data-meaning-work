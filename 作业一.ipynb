{
 "cells": [
  {
   "cell_type": "markdown",
   "metadata": {},
   "source": [
    "# 作业一：数据探索性分析与数据预处理\n",
    "&emsp;&emsp;&emsp;&emsp;&emsp;&emsp;&emsp;&emsp;&emsp;&emsp;&emsp;&emsp;&emsp;&emsp;&emsp;&emsp;&emsp;&emsp;&emsp;&emsp;&emsp;&emsp;&emsp;&emsp;&emsp;&emsp;&emsp;&emsp;&emsp;&emsp;&emsp;&emsp;&emsp;&emsp;&emsp;&emsp;&emsp;&emsp;&emsp;&emsp;&emsp;&emsp;&emsp;&emsp;&emsp;&emsp;&emsp;&emsp;&emsp;&emsp;&emsp;&emsp;&emsp;&emsp;&emsp;&emsp;**秦馨**\n",
    "<br>&emsp;&emsp;&emsp;&emsp;&emsp;&emsp;&emsp;&emsp;&emsp;&emsp;&emsp;&emsp;&emsp;&emsp;&emsp;&emsp;&emsp;&emsp;&emsp;&emsp;&emsp;&emsp;&emsp;&emsp;&emsp;&emsp;&emsp;&emsp;&emsp;&emsp;&emsp;&emsp;&emsp;&emsp;&emsp;&emsp;&emsp;&emsp;&emsp;&emsp;&emsp;&emsp;&emsp;&emsp;&emsp;&emsp;&emsp;&emsp;&emsp;&emsp;&emsp;&emsp;&emsp;&emsp;&emsp;**5720182058**"
   ]
  },
  {
   "cell_type": "markdown",
   "metadata": {},
   "source": [
    "# 1.1 数据摘要及可视化"
   ]
  },
  {
   "cell_type": "markdown",
   "metadata": {},
   "source": [
    "## 1.1.1 标称属性\n",
    "\n",
    "### 数据摘要\n",
    "\n",
    "* 标称属性数据描述：\n",
    "  描述标称属性的特征，包括：非空数量count、唯一值种类unique、出现最多的类型top和出现次数freq\n",
    "\n",
    "### 数据可视化\n",
    "\n",
    "* 条形图：\n",
    "  通过条形图显示整个数据集中标称属性所由可能取值的频数\n",
    "* 饼图：\n",
    "  通过饼图显示数据集中标称属性所对应每个可能取值所占整个数据集的百分比"
   ]
  },
  {
   "cell_type": "code",
   "execution_count": null,
   "metadata": {},
   "outputs": [],
   "source": [
    "import pandas as pd\n",
    "import matplotlib.pyplot as plt\n",
    "from scipy import stats\n",
    "from sklearn.linear_model import LogisticRegression"
   ]
  },
  {
   "cell_type": "code",
   "execution_count": null,
   "metadata": {},
   "outputs": [],
   "source": [
    "# 标称属性摘要及可视化——条形图\n",
    "def data_bar(data,index,name):\n",
    "    #number=data.groupby(by=index).size()\n",
    "   # print(number)\n",
    "    data_index = data[index]\n",
    "    fre=data_index.value_counts()\n",
    "   # print(fre)\n",
    "   # NA(index)\n",
    "    frequency = plt.figure()\n",
    "    plt.ylabel('frequence')\n",
    "    fre.plot(kind='bar',title=index)\n",
    "    plt.savefig(r'C:/Users/xin/Desktop/数据挖掘与处理/%s/%s_%s.png'%(name,index,'bar'))\n",
    "    plt.show()\n",
    "    describe = data_index.describe(include = ['O'])\n",
    "    print(describe)\n",
    "    data_none = len(data_index) - describe['count']\n",
    "    print('%s的缺失值个数为：%d' % (index, data_none))"
   ]
  },
  {
   "cell_type": "code",
   "execution_count": null,
   "metadata": {},
   "outputs": [],
   "source": [
    "# 标称属性摘要及可视化——饼图\n",
    "def data_pie(data,index,name):\n",
    "    data_index = data[index]\n",
    "    fre = data_index.value_counts()\n",
    "    #number = data.groupby(by=index).size()\n",
    "   # NA(index)\n",
    "    frequency = plt.figure()\n",
    "    plt.ylabel('frequence')\n",
    "    fre.plot(kind='pie', title=index, autopct='%.2f')\n",
    "    plt.savefig(r'C:/Users/xin/Desktop/数据挖掘与处理/%s/%s_%s.png' % (name,index,'pie'))\n",
    "    plt.show()\n",
    "    describe = data_index.describe(include=['O'])\n",
    "    print(describe)\n",
    "    data_none = len(data_index) - describe['count']\n",
    "    print('%s的缺失值个数为：%d' % (index, data_none))"
   ]
  },
  {
   "cell_type": "markdown",
   "metadata": {},
   "source": [
    "## 1.1.2 数值属性\n",
    "\n",
    "### 数据可视化\n",
    "\n",
    "* QQ图：用于检验数据集中数值属性的数据分布是否为正态分布\n",
    "* 直方图：显示整列数据的频数分布\n",
    "* 盒状图：用于识别离群点"
   ]
  },
  {
   "cell_type": "code",
   "execution_count": null,
   "metadata": {},
   "outputs": [],
   "source": [
    "# QQ图可视化\n",
    "def QQ_picture(index,x,name):\n",
    "    qq = plt.figure()\n",
    "    stats.probplot(index, dist=\"norm\", plot=plt)\n",
    "    plt.savefig(r'C:/Users/xin/Desktop/数据挖掘与处理/%s/%s_%s.png' % (name,x,'QQ'))\n",
    "    plt.show()"
   ]
  },
  {
   "cell_type": "code",
   "execution_count": null,
   "metadata": {},
   "outputs": [],
   "source": [
    "# 直方图可视化\n",
    "def hist_picture(index,x,name):\n",
    "    hist = plt.figure()\n",
    "    plt.ylabel('frequence')\n",
    "    plt.xlabel(x)\n",
    "    index.plot(kind='hist',title='HistPlot')\n",
    "    plt.savefig(r'C:/Users/xin/Desktop/数据挖掘与处理/%s/%s_%s.png' % (name,x,'hist'))\n",
    "    plt.show()"
   ]
  },
  {
   "cell_type": "code",
   "execution_count": null,
   "metadata": {},
   "outputs": [],
   "source": [
    "# 盒状图可视化\n",
    "def box_picture(index,x,name):\n",
    "    box = plt.figure()\n",
    "    index.plot(kind='box',title='BoxPlot')\n",
    "    plt.savefig(r'C:/Users/xin/Desktop/数据挖掘与处理/%s/%s_%s.png' % (name,x,'box'))\n",
    "    plt.show()"
   ]
  },
  {
   "cell_type": "markdown",
   "metadata": {},
   "source": [
    "### 数据摘要\n",
    "\n",
    "* 数值属性数据描述：给出给出最大、最小、均值、中位数、四分位数及缺失值的个数"
   ]
  },
  {
   "cell_type": "code",
   "execution_count": null,
   "metadata": {},
   "outputs": [],
   "source": [
    "# 数值属性摘要及可视化\n",
    "def data_describe(data,index,name):\n",
    "    data_index = data[index]\n",
    "   # data_max = max(data_index)\n",
    "   # data_min = min(data_index)\n",
    "   # data_mean = sum(data_index)\n",
    "   # data_median = np.median(data_index)\n",
    "   # data_percent_one = np.percentile(data_index, 25)\n",
    "   # data_percent_three = np.percentile(data_index, 75)\n",
    "   # data_none=data_index.isnull().any().sum()\n",
    "    describe=data_index.describe()\n",
    "    data_none = len(data_index) - describe['count']\n",
    "    data_max = describe['max']\n",
    "    data_min = describe['min']\n",
    "    data_mean = describe['mean']\n",
    "    data_percent_one = describe['25%']\n",
    "    data_median = describe['50%']\n",
    "    data_percent_three = describe['75%']\n",
    "    print('%s的最大值为：%d' % (index , data_max))\n",
    "    print('%s的最小值为：%d' % (index , data_min))\n",
    "    print('%s的均值为：%d' % (index , data_mean))\n",
    "    print('%s的25百分位数为：%d' % (index , data_percent_one))\n",
    "    print('%s的中位数为：%d' % (index , data_median))\n",
    "    print('%s的75百分位数为：%d' % (index , data_percent_three))\n",
    "    print('%s的缺失值个数为：%d' % (index , data_none))\n",
    "\n",
    "    hist_picture(data_index,index,name)\n",
    "    QQ_picture(data_index,index,name)\n",
    "    box_picture(data_index,index,name)"
   ]
  },
  {
   "cell_type": "markdown",
   "metadata": {},
   "source": [
    "## 1.1.3 wine原始数据集探索\n",
    "\n",
    "### wine数据集说明\n",
    "\n",
    " 数据源：winemag-data_first 150 k.csv，包含10个属性和150K行有关葡萄酒评论的数据\n",
    "* country：葡萄酒来自哪个国家\n",
    "* description：对于葡萄酒的详细描述\n",
    "* designation：酒庄内的葡萄园，就是酿制葡萄酒的葡萄的产地\n",
    "* points：葡萄酒的评分为1-100分(然而他们说他们只对得分>=80分的葡萄酒进行评论)。\n",
    "* price：一瓶酒的价格\n",
    "* province：产酒的省或州\n",
    "* region_1：一个省或州的葡萄酒产地(纳帕)\n",
    "* region_2：有时在葡萄酒种植区(如纳帕谷内的卢瑟福)有更多的特定区域，但这个值有时是空白的。\n",
    "* variety：用来酿制葡萄酒的葡萄(黑比诺)\n",
    "* winery：酿制酒的酒厂\n",
    "\n",
    "*注：由于description属性为对葡萄酒的详细描述，所有数据这一属性均为唯一值，且字符串长度过长，因此对数据进行探索性分析时忽略这一属性。*"
   ]
  },
  {
   "cell_type": "code",
   "execution_count": null,
   "metadata": {},
   "outputs": [],
   "source": [
    "# wine数据集探索分析\n",
    "def wine_process(work_data,name):\n",
    "   # work_data = pd.read_csv('C:/Users/xin/Desktop/数据挖掘与处理/wine-reviews/winemag-data_first150k.csv', engine='python')\n",
    "    data_wine = work_data[['country','description','designation','points','price','province','region_1',\n",
    "                           'region_2','variety','winery']]\n",
    "    data_pie(data_wine,'country',name)\n",
    "   # data_bar(data_wine,'description',name)  \n",
    "   #data_bar(data_wine,'designation',name)   \n",
    "    data_pie(data_wine,'province',name)\n",
    "    data_bar(data_wine,'region_1',name)\n",
    "    data_bar(data_wine,'region_2',name)\n",
    "    data_bar(data_wine,'variety',name)\n",
    "    data_bar(data_wine,'winery',name)\n",
    "    data_describe(data_wine,'points',name)\n",
    "    data_describe(data_wine, 'price',name)"
   ]
  },
  {
   "cell_type": "code",
   "execution_count": null,
   "metadata": {},
   "outputs": [],
   "source": [
    "# wine原始数据集摘要及可视化\n",
    "wine_all = pd.read_csv('C:/Users/xin/Desktop/数据挖掘与处理/wine-reviews/lianxi.csv', engine='python')\n",
    "print('wine数据集数据摘要：')\n",
    "wine_process(wine_all,'wine')"
   ]
  },
  {
   "cell_type": "markdown",
   "metadata": {},
   "source": [
    "* wine数据集原始数据标称属性描述：\n",
    "\n",
    "|/wine / | country | designation|province | region_1 | region_2 | variety | winery |\n",
    "|:- - -:| :- - -: | :- - -: | :- - -: | :- - -: | :- - -: | :- - -: | :- - -: |\n",
    "| count | 150925 | 105195|150925 | 125870 | 60953 | 150930 | 150930 |\n",
    "| unique | 48|30621|455 | 1236 | 18|632 | 14810 |\n",
    "| top | US | Reserve|California | Napa Valley | Central Coast |Chardonnay | Williams Selyem |\n",
    "|freq|62397|2752|44508|6209|13057|14482|374|\n",
    "| 缺失值 | 5 |45735| 5 | 25060 | 89977 | 0 | 0 |\n",
    "\n",
    "   可以看出country与province两个属性缺失值较少且数据分布相对较集中，designation数据分布最为分散，region_1缺失值较多，region_2数据缺失最多但分布最为集中，仅存在18个属性值，variety与winery无缺失值，且winery分布较为分散"
   ]
  },
  {
   "cell_type": "markdown",
   "metadata": {},
   "source": [
    "* wine数据集原始数据标称属性可视化\n",
    "\n",
    "<img src=wine/country_pie.png weight =200 align=\"left\"/><img src=wine/country_bar.png weight =200 align=\"left\"/>**country：**所有可能取值为48个，其中US、France、Italy三个国家占比超过3/4\n",
    "<img src=wine/designation_pie.png weight =200 align=\"left\"/><br>**designation：**数据分布极为分散\n",
    "<img src=wine/province_pie.png weight =200 align=\"left\"/><br>**province：**所有涉及省份较多，但是各省份频数占比相差较大\n",
    "<img src=wine/region_1_pie.png weight =200 align=\"left\"/><img src=wine/region_1_bar.png weight =200 align=\"left\"/><br>**region_1:** 分布频数呈断崖式下跌\n",
    "<img src=wine/region_2_bar.png weight =200 align=\"left\"/><img src=wine/region_2_pie.png weight =200 align=\"left\"/><br>**region_2：**数据分布最为集中，Central Coast、sonama、Columbia Valley总和占比已超50%\n",
    "<img src=wine/variety_pie.png weight =200 align=\"left\"/><img src=wine/variety_bar.png weight =200 align=\"left\"/><br>**variety：**频数最高的八个取值占比已超50%\n",
    "<img src=wine/winery_bar.png weight =200 align=\"left\"/><br>**winery：**数据分布最为分散"
   ]
  },
  {
   "cell_type": "markdown",
   "metadata": {},
   "source": [
    " * wine数据集原始数据数值属性描述：\n",
    "\n",
    "| /wine/ | max | min | mean | 25% | median | 75% | 缺失值 |\n",
    "|- - -| - - - | - - - | - - - | - - - | - - - | - - - | - - - |\n",
    "| points | 100 | 80 | 87 | 86 | 88 | 90 | 0 |\n",
    "| price | 2300 | 4 | 33 | 16 | 24 | 40 | 13695 |\n",
    "\n",
    "\n",
    "  可以看出wine数据集所选取的数据评分集中于80-100，且不存在任何缺失值，而价格的分布则差距较大，且缺失值较多"
   ]
  },
  {
   "cell_type": "markdown",
   "metadata": {},
   "source": [
    "* wine数据集原始数据数值属性可视化\n",
    "\n",
    "<img src=wine/points_hist.png weight =200 align=\"left\"/><img src=wine/points_QQ.png weight =200 align=\"left\"/><img src=wine/points_box.png weight =200 align=\"left\"/>**points:**<br>从直方图可得86-88分段频数最多，分布较为均匀；<br>由QQ图可得points分布接近正态分布：<br>从盒状图可得points仅有4个离群点\n",
    "<img src=wine/price_hist.png weight =200 align=\"left\"/><img src=wine/price_QQ.png weight =200 align=\"left\"/><img src=wine/price_box.png weight =200 align=\"left\"/><br>**price:**<br>从直方图可得价格基本都在250以下；<br>由QQ图可得price分布同正态分布相差较大；<br>从盒状图可得该列属性离群值较多，且基本分布在大部分数据上侧"
   ]
  },
  {
   "cell_type": "markdown",
   "metadata": {},
   "source": [
    "## 1.1.4 mlb_pitch原始数据集探索\n",
    "\n",
    "### mlb_pitch数据集说明\n",
    " 数据源：atbats.csv，来自2015-2018年MLB常规赛期间每投一球的球场级别数据，包含10个属性和740k行的数据\n",
    "* ab_id：at-bat ID.前四位是年份\n",
    "* batter_id：击球手的球员编号，由MLB提供\n",
    "* event：击球结果的描述\n",
    "* g_id：游戏ID，前四位数字是年份\n",
    "* inning：局数\n",
    "* o：在这个打击后出局的次数\n",
    "* p_score：为投手队得分\n",
    "* p_throws：哪个投手投球，单个字符，R或L\n",
    "* pitcher_id：投手的球员编号，由MLB提供\n",
    "* stand：哪边击球手击球了，单个字符，R或L\n",
    "* top：如果是在上半局为真，如果是在下半局为假"
   ]
  },
  {
   "cell_type": "code",
   "execution_count": null,
   "metadata": {},
   "outputs": [],
   "source": [
    "# mlb_pitch数据集预处理\n",
    "def mlb_pitch_process(work_data):\n",
    "    data_mlb = work_data[['ab_id', 'batter_id', 'event', 'inning', 'o', 'p_score', 'pitcher_id', 'p_throws', 'stand', 'top']]\n",
    "    data_bar(data_mlb,'batter_id','mlb_pitch')\n",
    "    data_bar(data_mlb,'event','mlb_pitch')\n",
    "    data_bar(data_mlb,'inning','mlb_pitch')\n",
    "    data_bar(data_mlb,'o','mlb_pitch')\n",
    "    data_bar(data_mlb,'p_score','mlb_pitch')\n",
    "    data_bar(data_mlb,'pitcher_id','mlb_pitch')\n",
    "    data_pie(data_mlb,'p_throws','mlb_pitch')\n",
    "    data_pie(data_mlb,'stand','mlb_pitch')\n",
    "    data_pie(data_mlb,'top','mlb_pitch')"
   ]
  },
  {
   "cell_type": "code",
   "execution_count": null,
   "metadata": {},
   "outputs": [],
   "source": [
    "# mlb_pitch原始数据集摘要及可视化\n",
    "    mlb_pitch_all = pd.read_csv('C:/Users/xin/Desktop/数据挖掘与处理/mlb-pitch-data-20152018/lianxi.csv', engine='python')\n",
    "    print('mlb_pitch数据集数据摘要：')\n",
    "    mlb_pitch_process(mlb_pitch_all)"
   ]
  },
  {
   "cell_type": "markdown",
   "metadata": {},
   "source": [
    "* mlb_pitch数据集原始数据标称属性描述：\n",
    "\n",
    "|/mlb_pitch / | batter_id | event | inning | o | p_score | pitcher_id | p_throws | stand | top |\n",
    "|:- - -:| - - - | - - - | - - - | - - - | - - - | - - - | - - - | - - - | - - - |\n",
    "| count | 740389 | 740389 | 740389 | 740389 | 740389 | 740389 | 740389 | 740389 | 740389 |\n",
    "| unique | 1688 | 30 | 19 | 4 |26 | 1332 |2|2|2|\n",
    "| top | 592518 | Strikeou | 1 | 1 |0 | 453286 |R|R|True|\n",
    "|freq|2810|157128|84035|246472|244146|3450|542102|433070|377283|\n",
    "| 缺失值 | 0 | 0 | 0 | 0 | 0 | 0 | 0 |0|0|\n",
    "\n",
    "可以看出整个数据集数据选取情况良好，所有属性均为标称属性，且无缺失值，每个属性分布都较为集中。\n",
    "* *注：因此此数据集无需进行后续缺失值处理*"
   ]
  },
  {
   "cell_type": "markdown",
   "metadata": {},
   "source": [
    "* mlb_pitch数据集原始数据标称属性可视化:\n",
    "\n",
    "<img src=mlb_pitch/batter_id_bar.png weight =200 align=\"left\"/>**batter_id:**:共有1688名击球手，其频数分布较为平滑下降\n",
    "<img src=mlb_pitch/event_pie.png weight =200 align=\"left\"/><img src=mlb_pitch/event_bar.png weight =200 align=\"left\"/><br>**event:** 击球结果共有30种，Strikeou、Groundout、Single三种情况占比过50%\n",
    "<img src=mlb_pitch/inning_pie.png weight =200 align=\"left\"/><img src=mlb_pitch/inning_bar.png weight =200 align=\"left\"/><br>**inning:** 局数基本都在9局以下，且1-9局的概率基本相同\n",
    "<img src=mlb_pitch/o_pie.png weight =200 align=\"left\"/><br>**o:** 击球后出局次数共有四类，其中不出局情况最为少见\n",
    "<img src=mlb_pitch/p_score_pie.png weight =200 align=\"left\"/><img src=mlb_pitch/p_score_bar.png weight =200 align=\"left\"/><br>**p_score:**: 有0-25分共26种得分情况，其中3分以下占3/4\n",
    "<img src=mlb_pitch/pitcher_id_bar.png weight =200 align=\"left\"/>**pitcher_id:** 投球手有1332名，略少于击球手\n",
    "<img src=mlb_pitch/p_throws_pie.png weight =200 align=\"left\"/><br>**p_throws:** 右侧投球手投球概率为73%，远大于左侧\n",
    "<img src=mlb_pitch/stand_pie.png weight =200 align=\"left\"/>**stand:** 右侧击球手击球情况略多于左侧\n",
    "<img src=mlb_pitch/top_pie.png weight =200 align=\"left\"/><br>**top:** 数据集中上半局与下半局次数基本持平"
   ]
  },
  {
   "cell_type": "markdown",
   "metadata": {},
   "source": [
    "# 1.2 数据缺失值处理\n",
    "由1.1.3wine数据集可视化描述可知，designation、region_1、region_2、price缺失值较多，country、province仅有五个缺失值，而points、variety、winety则没有缺失值。"
   ]
  },
  {
   "cell_type": "markdown",
   "metadata": {},
   "source": [
    "## 1.2.1 剔除缺失值\n",
    "将整个数据集中包含有缺失值的行全部剔除，将剔除后的数据进行保存，并可视化描述新数据集。"
   ]
  },
  {
   "cell_type": "code",
   "execution_count": null,
   "metadata": {},
   "outputs": [],
   "source": [
    "# 剔除缺失值\n",
    "def cut_none(index):\n",
    "    data_cut=index.dropna()\n",
    "   # pd.set_option('display.max_columns', None)\n",
    "   # print(data_cut)\n",
    "    data_cut.to_csv('C:/Users/xin/Desktop/数据挖掘与处理/wine-reviews/wine_cut.csv')\n",
    "    return data_cut"
   ]
  },
  {
   "cell_type": "code",
   "execution_count": null,
   "metadata": {},
   "outputs": [],
   "source": [
    "# wine数据集摘要及可视化（剔除缺失值之后）\n",
    "wine_cut=cut_none(wine_all)\n",
    "print('剔除缺失值后wine数据集数据摘要：')\n",
    "wine_process(wine_cut,'wine_cut')"
   ]
  },
  {
   "cell_type": "markdown",
   "metadata": {},
   "source": [
    "* wine数据集剔除缺失值后标称属性描述：\n",
    "\n",
    "|/wine / | country |designation| province | region_1 | region_2 | variety | winery |\n",
    "|:- - -:| :- - -: | :- - -: |:- - -: | :- - -: | :- - -: | :- - -: | :- - -: |\n",
    "| count | 39241 | 39241 |39241| 39241 | 39241 | 39241 | 39241 |\n",
    "| unique | 1|10879|4 | 209 | 18|180 | 14810 |\n",
    "| top | US | Reserve|California | Napa Valley | Central Coast |Pinot Noir | Williams Selyem |\n",
    "|freq|39241|1848|28557|3509|9150|7442|302|\n",
    "| 缺失值 | 0 | 0|0 | 0 | 0 | 0 | 0 |\n",
    "\n",
    "可以看出，采用剔除缺失值的处理方案，丢失了大量数据，剩余不足1/4，对于后续的数据挖掘及处理有较大的不利影响。"
   ]
  },
  {
   "cell_type": "markdown",
   "metadata": {},
   "source": [
    "* wine数据集剔除缺失值后标称属性可视化\n",
    "\n",
    "<img src=wine_cut/country_pie.png weight =200 align=\"left\"/>**country：**剔除离群值后仅剩US一个国家\n",
    "<img src=wine_cut/designation_pie.png weight =200 align=\"left\"/><br>**designation：**Reserve占比进一步扩大\n",
    "<img src=wine_cut/province_pie.png weight =200 align=\"left\"/><br>**province：**仅剩余四个省份\n",
    "<img src=wine_cut/region_1_pie.png weight =200 align=\"left\"/><img src=wine_cut/region_1_bar.png weight =200 align=\"left\"/><br>**region_1:** 频数较多的几个地区占比扩大，但是之前频数排第三位的Mendoza地区的数据基本都被剔除\n",
    "<img src=wine_cut/region_2_bar.png weight =200 align=\"left\"/><img src=wine_cut/region_2_pie.png weight =200 align=\"left\"/><br>**region_2：** 对于该列属性，剔除缺失值的处理基本没有影响\n",
    "<img src=wine_cut/variety_pie.png weight =200 align=\"left\"/><img src=wine_cut/variety_bar.png weight =200 align=\"left\"/><br>**variety：**剔除掉的数据大部分为频数较少的数据\n",
    "<img src=wine_cut/winery_bar.png weight =200 align=\"left\"/><br>**winery：**变化较小难以观察"
   ]
  },
  {
   "cell_type": "markdown",
   "metadata": {},
   "source": [
    " * wine数据集剔除缺失值后数值属性描述：\n",
    "\n",
    "| /wine/ | max | min | mean | 25% | median | 75% | 缺失值 |\n",
    "|- - -| - - - | - - - | - - - | - - - | - - - | - - - | - - - |\n",
    "| points | 100 | 80 | 88 | 86 | 88 | 91 | 0 |\n",
    "| price | 2013 | 4 | 37 | 22 | 32 | 45 | 0 |\n",
    "\n",
    "可得，points均值略增，price均值、中位数、25百分位数、75百分位数均有较大上升，但最大值有所下降。"
   ]
  },
  {
   "cell_type": "markdown",
   "metadata": {},
   "source": [
    "* wine数据集剔除缺失值后数值属性可视化\n",
    "\n",
    "<img src=wine_cut/points_hist.png weight =200 align=\"left\"/><img src=wine_cut/points_QQ.png weight =200 align=\"left\"/><img src=wine_cut/points_box.png weight =200 align=\"left\"/>**points:**<br>从直方图可得90-92分段占比增大；<br>由QQ图可得points分布仍旧接近正态分布：<br>从盒状图可得points离群点减少为2\n",
    "<img src=wine_cut/price_hist.png weight =200 align=\"left\"/><img src=wine_cut/price_QQ.png weight =200 align=\"left\"/><img src=wine_cut/price_box.png weight =200 align=\"left\"/><br>**price:**<br>从直方图可得最大值减少；<br>由QQ图可得price分布向正太分布接近；<br>从盒状图可得数据离群值减少，750以上离群值仅有2013一个"
   ]
  },
  {
   "cell_type": "markdown",
   "metadata": {},
   "source": [
    "## 1.2.2 用最高频率数填补缺失值\n",
    "对于标称属性，使用整列数据中频率最高的数填充缺失值，对于数值属性，使用中位数进行缺失值填充。"
   ]
  },
  {
   "cell_type": "code",
   "execution_count": null,
   "metadata": {},
   "outputs": [],
   "source": [
    "# 利用最高频率数填补离散属性\n",
    "def fill_none_frequence(index):\n",
    "    describe = index.describe(include=['O'])\n",
    "    data_frequence=describe['top']\n",
    "  #  data_frequence = [index.mode()]\n",
    "    index_new=index.fillna(data_frequence)\n",
    "    print(data_frequence)\n",
    "    return index_new"
   ]
  },
  {
   "cell_type": "code",
   "execution_count": null,
   "metadata": {},
   "outputs": [],
   "source": [
    "# 利用中位数填补数值属性\n",
    "def fill_none_median(index):\n",
    "    describe = index.describe()\n",
    "    data_median = describe['50%']\n",
    "    index_new=index.fillna(data_median)\n",
    "    print(data_median)\n",
    "    return index_new"
   ]
  },
  {
   "cell_type": "code",
   "execution_count": null,
   "metadata": {},
   "outputs": [],
   "source": [
    "# 用最高频率值来填补wine数据集缺失值\n",
    "def fill_wine_frequence(data_index):\n",
    "    data_new=pd.DataFrame(columns=['country', 'description', 'designation', 'points', 'price', 'province', 'region_1',\n",
    "                                     'region_2', 'variety', 'winery'])\n",
    "    data = data_index[[ 'country', 'description', 'designation', 'points', 'price', 'province', 'region_1',\n",
    "                                     'region_2', 'variety', 'winery']]\n",
    "    data_country = data['country']\n",
    "    data_new['country'] = fill_none_frequence(data_country)\n",
    "    data_points = data['points']\n",
    "    data_new['points'] = fill_none_median(data_points)\n",
    "    data_price = data['price']\n",
    "    data_new['price'] = fill_none_median(data_price)\n",
    "    data_province = data['province']\n",
    "    data_new['province'] = fill_none_frequence(data_province)\n",
    "    data_region_1 = data['region_1']\n",
    "    data_new['region_1'] = fill_none_frequence(data_region_1)\n",
    "    data_region_2 = data['region_2']\n",
    "    data_new['region_2'] = fill_none_frequence(data_region_2)\n",
    "    data_designation = data['designation']\n",
    "    data_new['designation'] = fill_none_frequence(data_designation)\n",
    "    data_new['winery'] = data['winery']\n",
    "    data_new['description'] = data['description']\n",
    "    data_new['variety'] = data['variety']\n",
    "   # values = {'country': data_country.mode(), 'points': data_points.mode(),'price': data_price.mode(), 'province': data_province.mode(),\n",
    "   #           'region_1':data_region_1,mode(),'region_2': data_region_2.mode(),'variety':data_variety.mode(),'winery':data_winery.mode()}\n",
    "   # data.fillna(value=values)\n",
    "   # data_new=data.fillna(data.mode())\n",
    "    data_new.to_csv('C:/Users/xin/Desktop/数据挖掘与处理/wine-reviews/wine_fill_frequence.csv')\n",
    "    return data_new"
   ]
  },
  {
   "cell_type": "code",
   "execution_count": null,
   "metadata": {},
   "outputs": [],
   "source": [
    "# wine数据集摘要及可视化（利用最大频率数填充缺失值之后）\n",
    "wine_fill_frequence=fill_wine_frequence(wine_all)\n",
    "print('利用最大频率数填充缺失值后wine数据集数据摘要：')\n",
    "wine_process(wine_fill_frequence,'fill_wine_frequence')"
   ]
  },
  {
   "cell_type": "markdown",
   "metadata": {},
   "source": [
    "* wine数据集填充缺失值后标称属性描述：\n",
    "\n",
    "|/wine / | country |designation| province | region_1 | region_2 | variety | winery |\n",
    "|:- - -:| :- - -: |:- - -: | :- - -: | :- - -: | :- - -: | :- - -: | :- - -: |\n",
    "| count | 150930 |150930 | 150930 | 150930 | 150930 | 150930 | 150930 |\n",
    "| unique | 48|30621|455 | 1236 | 18|632 | 14810 |\n",
    "| top | US | Reserve|California | Napa Valley | Central Coast |Chardonnay | Williams Selyem |\n",
    "|freq|62402|48487|44513|31209|103034|14482|374|\n",
    "| 缺失值 | 0 | 0 |0 | 0 | 0 | 0 | 0 |"
   ]
  },
  {
   "cell_type": "markdown",
   "metadata": {},
   "source": [
    "* wine数据集填充缺失值后标称属性可视化\n",
    "\n",
    "<img src=fill_wine_frequence/country_pie.png weight =200 align=\"left\"/>采用最大频率数填充标称属性对数据影响不大，仅最大频率数占比增加<br>*注：variety与winery无缺失值，不需要填充\n",
    "<img src=fill_wine_frequence/designation_pie.png weight =200 align=\"left\"/><img src=fill_wine_frequence/province_pie.png weight =200 align=\"left\"/>\n",
    "<img src=fill_wine_frequence/region_1_pie.png weight =200 align=\"left\"/><img src=fill_wine_frequence/region_1_bar.png weight =200 align=\"left\"/>\n",
    "<img src=fill_wine_frequence/region_2_bar.png weight =200 align=\"left\"/><img src=fill_wine_frequence/region_2_pie.png weight =200 align=\"left\"/>"
   ]
  },
  {
   "cell_type": "markdown",
   "metadata": {},
   "source": [
    " * wine数据集填充缺失值后数值属性描述：\n",
    "\n",
    "| /wine/ | max | min | mean | 25% | median | 75% | 缺失值 |\n",
    "|- - -| - - - | - - - | - - - | - - - | - - - | - - - | - - - |\n",
    "| points | 100 | 80 | 87 | 86 | 88 | 90 | 0 |\n",
    "| price | 2300 | 4 | 32 | 16 | 24 | 38 | 13695 |\n",
    "\n",
    "price数据平均值与75百分位数降低"
   ]
  },
  {
   "cell_type": "markdown",
   "metadata": {},
   "source": [
    "* wine数据集填充缺失值后数值属性可视化\n",
    "\n",
    "<img src=fill_wine_frequence/price_hist.png weight =200 align=\"left\"/><img src=fill_wine_frequence/price_QQ.png weight =200 align=\"left\"/><img src=fill_wine_frequence/price_box.png weight =200 align=\"left\"/>**price:**<br>从直方图看最大频率数增大；<br>由QQ图可得数据填充缺失值后向正太分布接近；<br>从盒状图看基本无变化<br>*注：points无缺失值，故无变化"
   ]
  },
  {
   "cell_type": "markdown",
   "metadata": {},
   "source": [
    "## 1.2.3 利用属性现实意义填充缺失值\n",
    "country、province、region_1、region_2分别为从宽泛到具体的指明葡萄酒的产地，因此可以使用province填充region_1缺失值，再利用region_1填充region_2缺失值，而country、province缺失值仅有5个，且从现实意义讲没有足够信息进行填充，因此忽略这五个缺失值。"
   ]
  },
  {
   "cell_type": "code",
   "execution_count": null,
   "metadata": {},
   "outputs": [],
   "source": [
    "# 利用属性现实意义填充wine数据集缺失值\n",
    "def fill_wine_relation(data_index):\n",
    "    data_new = pd.DataFrame(columns=[ 'province', 'region_1','region_2'])\n",
    "    data = data_index[[ 'province', 'region_1', 'region_2']]\n",
    "    data_new=data.fillna(method='ffill',axis=1)\n",
    "    data_pie(data_new, 'province', 'fill_wine_relation')\n",
    "    data_bar(data_new, 'region_1', 'fill_wine_relation')\n",
    "    data_bar(data_new, 'region_2', 'fill_wine_relation')\n",
    "    data_new.to_csv('C:/Users/xin/Desktop/数据挖掘与处理/wine-reviews/wine_fill_relation.csv')"
   ]
  },
  {
   "cell_type": "code",
   "execution_count": null,
   "metadata": {},
   "outputs": [],
   "source": [
    "# wine数据集摘要及可视化（利用属性现实意义填充wine数据集缺失值）\n",
    "fill_wine_relation(wine_all)"
   ]
  },
  {
   "cell_type": "markdown",
   "metadata": {},
   "source": [
    "* wine数据集利用属性现实意义填充缺失值：\n",
    "\n",
    "|/wine / | province | region_1 | region_2 |\n",
    "|:- - -:| :- - -: | :- - -: | :- - -: |\n",
    "| count | 150925 | 150925 | 150925 | \n",
    "| unique |455 | 1631 | 1422|\n",
    "| top | California | Napa Valley | Central Coast |\n",
    "|freq|44508|6209|13066|\n",
    "| 缺失值 | 5 | 5 | 5 | \n",
    "\n",
    "由表格可以看出由于五组数据缺失country与province属性，因此region_1和region_2属性填充之后仍有5个缺失值。region_2属性中唯一值种类由18变为1422，对于数据影响较大。"
   ]
  },
  {
   "cell_type": "markdown",
   "metadata": {},
   "source": [
    "* wine数据集利用属性现实意义填充缺失值：\n",
    "\n",
    "<img src=fill_wine_relation/region_1_pie.png weight =200 align=\"left\"/><img src=fill_wine_relation/region_1_bar.png weight =200 align=\"left\"/><br>**region_1:** 从图像观察对于region_1影响较微弱\n",
    "<img src=fill_wine_relation/region_2_bar.png weight =200 align=\"left\"/><img src=fill_wine_relation/region_2_pie.png weight =200 align=\"left\"/><br>**region_2：** 变化极大，数据分布变得极为分散"
   ]
  },
  {
   "cell_type": "markdown",
   "metadata": {},
   "source": [
    "## 1.2.4 利用属性间相关关系填充缺失值\n",
    "由于points与price均为数值属性，而且葡萄酒评分与价格之间应当存在一定的关系，而且points属性没有缺失值，因此利用已有的points与price构造模型建立回归关系，然后利用points填充price属性的缺失值。"
   ]
  },
  {
   "cell_type": "code",
   "execution_count": null,
   "metadata": {},
   "outputs": [],
   "source": [
    "# 利用属性间相关关系填充缺失值\n",
    "def fill_wine_log(data_index):\n",
    "    data_new = pd.DataFrame(columns=['points', 'price'])\n",
    "    data = data_index[['points', 'price']]\n",
    "    data_temp=data.dropna()\n",
    "    x = data_temp[['points']]\n",
    "    y = data_temp['price']\n",
    "    logreg = LogisticRegression()  # 定义一个LogisticRegression分类器对象\n",
    "    logreg.fit(x,y)\n",
    "   # print(len(data))\n",
    "    data_new['price'] = data['price']\n",
    "    for i in range(len(data)):\n",
    "        print(data.loc[i,'price'])\n",
    "        if (data['price'].isnull())[i]:\n",
    "            m = [data.loc[i, 'points']]\n",
    "            print(logreg.predict([m]))\n",
    "            n = logreg.predict([m])[0]\n",
    "            data_new.loc[i,'price']=n\n",
    "    data_new['points']=data['points']\n",
    "    data_new.to_csv('C:/Users/xin/Desktop/数据挖掘与处理/wine-reviews/wine_fill_log.csv')\n",
    "    data_describe(data_new,'price','fill_wine_log')"
   ]
  },
  {
   "cell_type": "code",
   "execution_count": null,
   "metadata": {},
   "outputs": [],
   "source": [
    "# wine数据集摘要及可视化（利用属性间相关关系填充缺失值）\n",
    "fill_wine_log(wine_all)"
   ]
  },
  {
   "cell_type": "markdown",
   "metadata": {},
   "source": [
    " * wine数据集利用属性间相关关系填充缺失值：\n",
    "\n",
    "| /wine/ | max | min | mean | 25% | median | 75% | 缺失值 |\n",
    "|- - -| - - - | - - - | - - - | - - - | - - - | - - - | - - - |\n",
    "| price | 2300 | 4 | 32 | 16 | 22 | 39 |0 |\n",
    "\n",
    "由表可得，price平均值、中位数、75百分位数均有所下降。"
   ]
  },
  {
   "cell_type": "markdown",
   "metadata": {},
   "source": [
    "* wine数据集利用属性间相关关系填充缺失值：\n",
    "\n",
    "<img src=fill_wine_log/price_hist.png weight =200 align=\"left\"/><img src=fill_wine_log/price_QQ.png weight =200 align=\"left\"/><img src=fill_wine_log/price_box.png weight =200 align=\"left\"/>**price:**<br>从直方图看填充缺失值集中在0-250分段；<br>由QQ图可得数据填充缺失值后向正太分布接近；<br>从盒状图看基本无变化"
   ]
  }
 ],
 "metadata": {
  "kernelspec": {
   "display_name": "Python 3",
   "language": "python",
   "name": "python3"
  },
  "language_info": {
   "codemirror_mode": {
    "name": "ipython",
    "version": 3
   },
   "file_extension": ".py",
   "mimetype": "text/x-python",
   "name": "python",
   "nbconvert_exporter": "python",
   "pygments_lexer": "ipython3",
   "version": "3.7.0b4"
  }
 },
 "nbformat": 4,
 "nbformat_minor": 2
}
